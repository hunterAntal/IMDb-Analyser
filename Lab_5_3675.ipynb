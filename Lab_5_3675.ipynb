{
  "cells": [
    {
      "cell_type": "markdown",
      "metadata": {
        "id": "WDCgj2vgO_SH"
      },
      "source": [
        "## Setup"
      ]
    },
    {
      "cell_type": "code",
      "execution_count": 2,
      "metadata": {},
      "outputs": [],
      "source": [
        "import pymongo # import the library\n",
        "import pandas as pd\n",
        "\n",
        "from pymongo import MongoClient"
      ]
    },
    {
      "cell_type": "code",
      "execution_count": 3,
      "metadata": {},
      "outputs": [],
      "source": [
        "client = MongoClient(\"mongodb://localhost:27017\")"
      ]
    },
    {
      "cell_type": "code",
      "execution_count": 21,
      "metadata": {
        "colab": {
          "base_uri": "https://localhost:8080/",
          "height": 436
        },
        "id": "4hNUrG_v9-oE",
        "outputId": "4159ecaa-fe4e-4271-a86d-44854a0ea336"
      },
      "outputs": [],
      "source": [
        "# Read excel file\n",
        "import pandas as pd\n",
        "path = r'Lab5Data\\Lab5.xlsx'\n",
        "df_E1 = pd.read_excel(path,sheet_name='E1')\n",
        "df_E2 = pd.read_excel(path,sheet_name='E2')\n",
        "df_D1 = pd.read_excel(path,sheet_name='D1')\n",
        "df_S2 = pd.read_excel(path,sheet_name='S2')\n",
        "df_S3 = pd.read_excel(path,sheet_name='S3')\n",
        "df_students = pd.read_excel(path,sheet_name='Students')\n",
        "df_courses = pd.read_excel(path,sheet_name='Courses')\n",
        "# Do read all the remaining sheets from the excel\n",
        "\n",
        "\n",
        "\n",
        "# Optional : Create a unique index\n",
        "# E1_collection.create_index( \"sin\" ,unique = True )\n"
      ]
    },
    {
      "cell_type": "code",
      "execution_count": 22,
      "metadata": {},
      "outputs": [
        {
          "data": {
            "text/html": [
              "<div>\n",
              "<style scoped>\n",
              "    .dataframe tbody tr th:only-of-type {\n",
              "        vertical-align: middle;\n",
              "    }\n",
              "\n",
              "    .dataframe tbody tr th {\n",
              "        vertical-align: top;\n",
              "    }\n",
              "\n",
              "    .dataframe thead th {\n",
              "        text-align: right;\n",
              "    }\n",
              "</style>\n",
              "<table border=\"1\" class=\"dataframe\">\n",
              "  <thead>\n",
              "    <tr style=\"text-align: right;\">\n",
              "      <th></th>\n",
              "      <th>sin</th>\n",
              "      <th>name</th>\n",
              "      <th>lot</th>\n",
              "      <th>age</th>\n",
              "    </tr>\n",
              "  </thead>\n",
              "  <tbody>\n",
              "    <tr>\n",
              "      <th>0</th>\n",
              "      <td>123456789</td>\n",
              "      <td>Bob</td>\n",
              "      <td>17.4</td>\n",
              "      <td>29</td>\n",
              "    </tr>\n",
              "    <tr>\n",
              "      <th>1</th>\n",
              "      <td>234567890</td>\n",
              "      <td>Dave</td>\n",
              "      <td>8.5</td>\n",
              "      <td>35</td>\n",
              "    </tr>\n",
              "    <tr>\n",
              "      <th>2</th>\n",
              "      <td>345678901</td>\n",
              "      <td>Lisa</td>\n",
              "      <td>96.7</td>\n",
              "      <td>32</td>\n",
              "    </tr>\n",
              "    <tr>\n",
              "      <th>3</th>\n",
              "      <td>456789012</td>\n",
              "      <td>Bill</td>\n",
              "      <td>32.5</td>\n",
              "      <td>24</td>\n",
              "    </tr>\n",
              "    <tr>\n",
              "      <th>4</th>\n",
              "      <td>567890123</td>\n",
              "      <td>Jimmy</td>\n",
              "      <td>1.0</td>\n",
              "      <td>42</td>\n",
              "    </tr>\n",
              "  </tbody>\n",
              "</table>\n",
              "</div>"
            ],
            "text/plain": [
              "         sin   name   lot  age\n",
              "0  123456789    Bob  17.4   29\n",
              "1  234567890   Dave   8.5   35\n",
              "2  345678901   Lisa  96.7   32\n",
              "3  456789012   Bill  32.5   24\n",
              "4  567890123  Jimmy   1.0   42"
            ]
          },
          "execution_count": 22,
          "metadata": {},
          "output_type": "execute_result"
        }
      ],
      "source": [
        "df_E1.head()"
      ]
    },
    {
      "cell_type": "code",
      "execution_count": 13,
      "metadata": {},
      "outputs": [
        {
          "data": {
            "text/plain": [
              "InsertManyResult([ObjectId('67d1ade561047d1c21e4e51f'), ObjectId('67d1ade561047d1c21e4e520'), ObjectId('67d1ade561047d1c21e4e521'), ObjectId('67d1ade561047d1c21e4e522')], acknowledged=True)"
            ]
          },
          "execution_count": 13,
          "metadata": {},
          "output_type": "execute_result"
        }
      ],
      "source": [
        "# Create a database\n",
        "db = client['algebra_db']\n",
        "# Create collections\n",
        "E1_collection = db['E1']\n",
        "E2_collection = db['E2']\n",
        "D1_collection = db['D1']\n",
        "S2_collection = db['S2']\n",
        "S3_collection = db['S3']\n",
        "Students_collection = db['Students']\n",
        "Courses_collection = db['Courses']\n",
        "\n",
        "# Drop collections to avoid duplicate key errors on insertion\n",
        "E1_collection.drop()\n",
        "E2_collection.drop()\n",
        "D1_collection.drop()\n",
        "S2_collection.drop()\n",
        "S3_collection.drop()\n",
        "Students_collection.drop()\n",
        "Courses_collection.drop()\n",
        "\n",
        "E1_collection.insert_many(df_E1.to_dict('records'))\n",
        "E2_collection.insert_many(df_E2.to_dict('records'))\n",
        "D1_collection.insert_many(df_D1.to_dict('records'))\n",
        "S2_collection.insert_many(df_S2.to_dict('records'))\n",
        "S3_collection.insert_many(df_S3.to_dict('records'))\n",
        "Students_collection.insert_many(df_students.to_dict('records'))\n",
        "Courses_collection.insert_many(df_courses.to_dict('records'))"
      ]
    },
    {
      "cell_type": "code",
      "execution_count": null,
      "metadata": {
        "colab": {
          "base_uri": "https://localhost:8080/"
        },
        "id": "Jja1WGa4Fhik",
        "outputId": "ebc6edbc-5169-4d00-e698-308de1e08b7f"
      },
      "outputs": [
        {
          "data": {
            "text/plain": [
              "Collection(Database(MongoClient(host=['cluster0-shard-00-00.lrq2u.mongodb.net:27017', 'cluster0-shard-00-01.lrq2u.mongodb.net:27017', 'cluster0-shard-00-02.lrq2u.mongodb.net:27017'], document_class=dict, tz_aware=False, connect=True, retrywrites=True, w='majority', appname='Cluster0', authsource='admin', replicaset='atlas-3rdwy9-shard-0', tls=True), 'algebra_db'), 'E2')"
            ]
          },
          "execution_count": 9,
          "metadata": {},
          "output_type": "execute_result"
        }
      ],
      "source": [
        "db.E2"
      ]
    },
    {
      "cell_type": "markdown",
      "metadata": {
        "id": "Oiq6P6DGAGuo"
      },
      "source": [
        "## 7.2 Selection (σ)\n",
        "Selection corresponds to filtering rows based on a given condition in relational algebra.\n",
        "Find all employees in E1 collection who is older than 33."
      ]
    },
    {
      "cell_type": "code",
      "execution_count": 14,
      "metadata": {
        "colab": {
          "base_uri": "https://localhost:8080/"
        },
        "id": "xtFJA8WVAJMt",
        "outputId": "513cabc1-472a-473b-9629-5996b62cd63a"
      },
      "outputs": [
        {
          "name": "stdout",
          "output_type": "stream",
          "text": [
            "{'_id': ObjectId('67d1ade561047d1c21e4e503'), 'sin': 234567890, 'name': 'Dave', 'lot': 8.5, 'age': 35}\n",
            "{'_id': ObjectId('67d1ade561047d1c21e4e506'), 'sin': 567890123, 'name': 'Jimmy', 'lot': 1.0, 'age': 42}\n"
          ]
        }
      ],
      "source": [
        "# Find employees older than 33\n",
        "selection_result = db.E1.find({'age': {'$gt': 33}})\n",
        "\n",
        "# print the result\n",
        "for document in selection_result:\n",
        "  print(document)\n"
      ]
    },
    {
      "cell_type": "markdown",
      "metadata": {
        "id": "hxe7v3xoAwcg"
      },
      "source": [
        "## 7.3 Projection (π)\n",
        "Projection is used to select specific columns or fields from a relation.\n",
        "Extract name and age attributes only from E1 collection."
      ]
    },
    {
      "cell_type": "code",
      "execution_count": 15,
      "metadata": {
        "colab": {
          "base_uri": "https://localhost:8080/"
        },
        "id": "aKsTAtmfAyKV",
        "outputId": "24def704-96c2-45e5-f405-c0c98e4c880a"
      },
      "outputs": [
        {
          "name": "stdout",
          "output_type": "stream",
          "text": [
            "{'name': 'Bob', 'age': 29}\n",
            "{'name': 'Dave', 'age': 35}\n",
            "{'name': 'Lisa', 'age': 32}\n",
            "{'name': 'Bill', 'age': 24}\n",
            "{'name': 'Jimmy', 'age': 42}\n"
          ]
        }
      ],
      "source": [
        "# Retrieve only 'name' and 'age' fields\n",
        "projection_result = db.E1.find({}, {'_id': 0, 'name': 1, 'age': 1})\n",
        "for document in projection_result:\n",
        "  print(document)"
      ]
    },
    {
      "cell_type": "markdown",
      "metadata": {
        "id": "FsNWQpBBBheC"
      },
      "source": [
        "## 7.4 Union (∪)\n",
        "Union combines two relations.\n",
        "Combine E1 and E2 collections."
      ]
    },
    {
      "cell_type": "code",
      "execution_count": 16,
      "metadata": {
        "colab": {
          "base_uri": "https://localhost:8080/"
        },
        "id": "QeuId7jSBjVl",
        "outputId": "a39c45b7-0d78-4224-adf8-011c4bc18d63"
      },
      "outputs": [
        {
          "name": "stdout",
          "output_type": "stream",
          "text": [
            "{'_id': 345678901, 'name': 'Lisa', 'lot': 96.7, 'age': 32}\n",
            "{'_id': 234567890, 'name': 'Dave', 'lot': 8.5, 'age': 35}\n",
            "{'_id': 567890123, 'name': 'Jimmy', 'lot': 1.0, 'age': 42}\n",
            "{'_id': 678901234, 'name': 'Beth', 'lot': 91.3, 'age': 44}\n",
            "{'_id': 789012345, 'name': 'Matthew', 'lot': 74.6, 'age': 26}\n",
            "{'_id': 456789012, 'name': 'Bill', 'lot': 32.5, 'age': 24}\n",
            "{'_id': 123456789, 'name': 'Bob', 'lot': 17.4, 'age': 29}\n"
          ]
        }
      ],
      "source": [
        "# Union of E1_collection and E2_collection\n",
        "\n",
        "union_result = db.E1.aggregate([\n",
        "    # Obtain E1 without '_id'\n",
        "    { '$project': {'_id': 0,\n",
        "                   'sin': 1,\n",
        "                   'name': 1,\n",
        "                   'lot': 1,\n",
        "                   'age': 1,\n",
        "                  }\n",
        "    },\n",
        "\n",
        "    # create union with E2 without '_id'\n",
        "    { '$unionWith': {'coll' : 'E2' ,\n",
        "                     'pipeline' : [{'$project': {'_id': 0,\n",
        "                                                 'sin': 1,\n",
        "                                                 'name': 1,\n",
        "                                                 'lot': 1,\n",
        "                                                 'age': 1} }]\n",
        "    }},\n",
        "\n",
        "    # Group by SIN to remove duplicates\n",
        "    { '$group' : {'_id': '$sin',\n",
        "                  'name': {'$first': '$name'},\n",
        "                  'lot': {'$first': '$lot'},\n",
        "                  'age': {'$first': '$age'}\n",
        "    }}\n",
        "])\n",
        "\n",
        "for document in union_result:\n",
        "    print(document)\n"
      ]
    },
    {
      "cell_type": "markdown",
      "metadata": {
        "id": "jxNRtL6QDL_U"
      },
      "source": [
        "## 7.5 Intersection (∩)\n",
        "Intersection finds the common elements between two relations.\n",
        "Find the intersection of E1 and E2 collections."
      ]
    },
    {
      "cell_type": "code",
      "execution_count": 17,
      "metadata": {
        "colab": {
          "base_uri": "https://localhost:8080/"
        },
        "id": "bkbPuyyQDNPg",
        "outputId": "a48df41c-9379-493d-f967-c18aaba8b419"
      },
      "outputs": [
        {
          "name": "stdout",
          "output_type": "stream",
          "text": [
            "{'sin': 234567890, 'name': 'Dave', 'lot': 8.5, 'age': 35}\n",
            "{'sin': 456789012, 'name': 'Bill', 'lot': 32.5, 'age': 24}\n"
          ]
        }
      ],
      "source": [
        "# Intersection of E1_collection and E2_collection\n",
        "\n",
        "intersection_result = db.E1.aggregate([\n",
        "    {   # Perform the intersection using $lookup\n",
        "        '$lookup':\n",
        "        {\n",
        "            'from': 'E2',  # The second collection\n",
        "            'localField': 'sin',  # Field in E1 collection\n",
        "            'foreignField': 'sin',  # Field in E2 collection\n",
        "            'as': 'intersection'  # Output field to store matching records from E2\n",
        "        }\n",
        "    },\n",
        "    {   # Only keep records where there's a match in E2\n",
        "        \"$match\":\n",
        "        {\n",
        "            \"intersection\": {\"$ne\": []}\n",
        "        }\n",
        "    },\n",
        "    {   # Flatten the matching results from E2 collection\n",
        "        \"$unwind\": \"$intersection\"\n",
        "    },\n",
        "    {\n",
        "        \"$project\": {\n",
        "            \"_id\": 0,  # Exclude the _id field\n",
        "            \"sin\": 1,\n",
        "            \"name\": 1,\n",
        "            \"lot\": 1,\n",
        "            \"age\": 1\n",
        "        }\n",
        "    }\n",
        "])\n",
        "\n",
        "for document in intersection_result:\n",
        "    print(document)\n"
      ]
    },
    {
      "cell_type": "markdown",
      "metadata": {
        "id": "av-Gl5-fD76T"
      },
      "source": [
        "## 7.6 Difference (−)\n",
        "Difference finds the elements present in one relation but not in another.\n",
        "Find the difference between E1 and E2 collections"
      ]
    },
    {
      "cell_type": "code",
      "execution_count": 18,
      "metadata": {
        "colab": {
          "base_uri": "https://localhost:8080/"
        },
        "id": "hOCDJsAQD9Yk",
        "outputId": "12d9933f-2dc7-4f32-d6ef-8fc46b61057a"
      },
      "outputs": [
        {
          "name": "stdout",
          "output_type": "stream",
          "text": [
            "{'sin': 123456789, 'name': 'Bob', 'lot': 17.4, 'age': 29}\n",
            "{'sin': 345678901, 'name': 'Lisa', 'lot': 96.7, 'age': 32}\n",
            "{'sin': 567890123, 'name': 'Jimmy', 'lot': 1.0, 'age': 42}\n"
          ]
        }
      ],
      "source": [
        "# Difference of E1_collection and E2_collection\n",
        "\n",
        "difference_result = db.E1.aggregate([\n",
        "    {   # Perform the difference using $lookup\n",
        "        '$lookup':\n",
        "        {\n",
        "            'from': 'E2',  # The second collection\n",
        "            'localField': 'sin',  # Field in E1 collection\n",
        "            'foreignField': 'sin',  # Field in E2 collection\n",
        "            'as': 'difference'  # Output field to store matching records from E2\n",
        "        }\n",
        "    },\n",
        "    {   # Only keep records where there's no match in E2\n",
        "        \"$match\": {\n",
        "            \"difference\": {\"$size\": 0}\n",
        "        }\n",
        "    },\n",
        "    {\n",
        "        \"$project\": {\n",
        "            \"_id\": 0,  # Exclude the _id field\n",
        "            \"sin\": 1,\n",
        "            \"name\": 1,\n",
        "            \"lot\": 1,\n",
        "            \"age\": 1\n",
        "        }\n",
        "    }\n",
        "])\n",
        "\n",
        "for document in difference_result:\n",
        "    print(document)\n"
      ]
    },
    {
      "cell_type": "markdown",
      "metadata": {
        "id": "mjRBg1ZHEeMj"
      },
      "source": [
        "## 7.8 Join (▷◁)\n",
        "A join combines rows from two relations based on a condition.\n",
        "Create join between E2 and D1 collections."
      ]
    },
    {
      "cell_type": "code",
      "execution_count": 19,
      "metadata": {
        "colab": {
          "base_uri": "https://localhost:8080/"
        },
        "id": "aNpjxpFdEhoH",
        "outputId": "35e61266-4a02-492d-9a5a-2e3bb118f1ae"
      },
      "outputs": [
        {
          "name": "stdout",
          "output_type": "stream",
          "text": [
            "{'sin': 678901234, 'name': 'Beth', 'lot': 91.3, 'age': 44, 'department_name': 'HR ', 'budget': 87.1}\n",
            "{'sin': 678901234, 'name': 'Beth', 'lot': 91.3, 'age': 44, 'department_name': 'Sales', 'budget': 63.7}\n",
            "{'sin': 789012345, 'name': 'Matthew', 'lot': 74.6, 'age': 26, 'department_name': 'Sales', 'budget': 63.7}\n"
          ]
        }
      ],
      "source": [
        "join_result = db.E2.aggregate([\n",
        "\n",
        "    {   # Perform the cross product using $lookup\n",
        "        \"$lookup\": {\n",
        "            \"from\": \"D1\",  # The second collection (Departments)\n",
        "            \"pipeline\": [],  # No matching condition, we want the full cross product\n",
        "            \"as\": \"departments\"  # The output field to store the result from D1\n",
        "        }\n",
        "    },\n",
        "    {   # Flatten the resulting department data\n",
        "        \"$unwind\": \"$departments\"\n",
        "    },\n",
        "    {   # Use $expr to compare values from different collections\n",
        "        \"$match\": {\n",
        "            \"$expr\": {\n",
        "                \"$gt\": [\"$lot\", \"$departments.budget\"]  # Condition: E2.lot > D1.budget\n",
        "            }\n",
        "        }\n",
        "    },\n",
        "    {   # Optionally exclude the _id field and include relevant fields\n",
        "        \"$project\": {\n",
        "            \"_id\": 0,\n",
        "            \"sin\": 1,\n",
        "            \"name\": 1,\n",
        "            \"lot\": 1,\n",
        "            \"age\": 1,\n",
        "            \"department_name\": \"$departments.dname\",\n",
        "            \"budget\": \"$departments.budget\"\n",
        "        }\n",
        "    }\n",
        "])\n",
        "\n",
        "# Print the join result\n",
        "for document in join_result:\n",
        "    print(document)\n"
      ]
    },
    {
      "cell_type": "markdown",
      "metadata": {
        "id": "Nt2mDXJQEzFU"
      },
      "source": [
        "List all students who are enrolled in the Mathematics course."
      ]
    },
    {
      "cell_type": "code",
      "execution_count": 20,
      "metadata": {
        "colab": {
          "base_uri": "https://localhost:8080/"
        },
        "id": "OVhhsLwZE2I7",
        "outputId": "b494e0ea-aef9-4c2d-cdc0-7e71a7ca7776"
      },
      "outputs": [
        {
          "name": "stdout",
          "output_type": "stream",
          "text": [
            "{'StuID': 1, 'Name': 'Alice', 'Age': 20, 'Status': 'Intl.', 'CourseName': 'Mathematics', 'CourseID': 101}\n",
            "{'StuID': 2, 'Name': 'Bob', 'Age': 22, 'Status': 'Dmstc.', 'CourseName': 'Physics', 'CourseID': 102}\n",
            "{'StuID': 3, 'Name': 'Charlie', 'Age': 21, 'Status': 'Dmstc.', 'CourseName': 'Chemistry', 'CourseID': 103}\n",
            "{'StuID': 4, 'Name': 'Dana', 'Age': 19, 'Status': 'Intl.', 'CourseName': 'Mathematics', 'CourseID': 101}\n"
          ]
        }
      ],
      "source": [
        "# Perform the join between Students and Courses collections\n",
        "join_result = db.Students.aggregate([\n",
        "    {\n",
        "        \"$lookup\": {\n",
        "            \"from\": \"Courses\",  # The second collection (Courses)\n",
        "            \"localField\": \"StuID\",  # Field in Students collection\n",
        "            \"foreignField\": \"SID\",  # Field in Courses collection\n",
        "            \"as\": \"courses_info\"  # Output field to store matching courses data\n",
        "        }\n",
        "    },\n",
        "    {\n",
        "        \"$unwind\": \"$courses_info\"  # Flatten the array of courses (if there are multiple matches)\n",
        "    },\n",
        "    {\n",
        "        \"$project\": {\n",
        "            \"_id\": 0,  # Exclude the _id field\n",
        "            \"StuID\": 1,\n",
        "            \"Name\": 1,\n",
        "            \"Age\": 1,\n",
        "            \"Status\": 1,\n",
        "            \"CourseName\": \"$courses_info.CourseName\",  # Include course name from Courses collection\n",
        "            \"CourseID\": \"$courses_info.CourseID\"  # Include course ID from Courses collection\n",
        "        }\n",
        "    }\n",
        "])\n",
        "\n",
        "# Print the join result\n",
        "for document in join_result:\n",
        "    print(document)\n"
      ]
    },
    {
      "cell_type": "markdown",
      "metadata": {
        "id": "pA3qKBYRE6GJ"
      },
      "source": [
        "## 8 Tasks"
      ]
    },
    {
      "cell_type": "markdown",
      "metadata": {
        "id": "NpnyGrr6H7Fl"
      },
      "source": [
        "1. Using S2 collection, select rating above 8 and project the sname and rating attributes only.\n",
        "Expected answer is on page 84 in Lecture Note."
      ]
    },
    {
      "cell_type": "code",
      "execution_count": null,
      "metadata": {
        "colab": {
          "base_uri": "https://localhost:8080/"
        },
        "id": "ZsmiXHBXH92Y",
        "outputId": "a60684e7-b0d9-4c77-a1f9-5dd9298b9fe0"
      },
      "outputs": [
        {
          "name": "stdout",
          "output_type": "stream",
          "text": [
            "{'sname': 'yuppy', 'rating': 9}\n",
            "{'sname': 'Rusty', 'rating': 10}\n"
          ]
        }
      ],
      "source": [
        "# Query to select rating above 8 and project only 'sname' and 'rating' fields\n",
        "result = db.S2.aggregate([\n",
        "    {\n",
        "        \"$match\": { \"rating\": { \"$gt\": 8 } }  # Filter for ratings above 8\n",
        "    },\n",
        "    {\n",
        "        \"$project\": {\n",
        "            \"_id\": 0,  # Exclude the _id field\n",
        "            \"sname\": 1,\n",
        "            \"rating\": 1\n",
        "        }\n",
        "    }\n",
        "])\n",
        "\n",
        "# Print the query result\n",
        "for document in result:\n",
        "    print(document)\n"
      ]
    },
    {
      "cell_type": "markdown",
      "metadata": {
        "id": "6VI05ZWMIaPE"
      },
      "source": [
        "2. Using S3 collection, find the age of the youngest sailor who is eligible to vote (i.e., is at least 18\n",
        "years old) for each rating level with at least two such sailors. Expected answer is on page 114 in\n",
        "Lecture Note - More Exercise #1."
      ]
    },
    {
      "cell_type": "code",
      "execution_count": null,
      "metadata": {
        "colab": {
          "base_uri": "https://localhost:8080/"
        },
        "id": "GCzUGG-5Ic31",
        "outputId": "fc06d335-d389-4c5d-a597-1a3fe9d5880a"
      },
      "outputs": [
        {
          "name": "stdout",
          "output_type": "stream",
          "text": [
            "{'min_age': 25.5, 'rating': 3}\n",
            "{'min_age': 35.0, 'rating': 7}\n",
            "{'min_age': 25.5, 'rating': 8}\n"
          ]
        }
      ],
      "source": [
        "# Query to find the youngest eligible sailor (age >= 18) for each rating with at least 2 sailors\n",
        "result = db.S3.aggregate([\n",
        "    {\n",
        "        \"$match\": { \"age\": { \"$gte\": 18 } }  # Filter for sailors eligible to vote (age >= 18)\n",
        "    },\n",
        "    {\n",
        "        \"$group\": {\n",
        "            \"_id\": \"$rating\",\n",
        "            \"min_age\": { \"$min\": \"$age\" },  # Find the minimum age per rating\n",
        "            \"count\": { \"$sum\": 1 }  # Count the number of sailors per rating\n",
        "        }\n",
        "    },\n",
        "    {\n",
        "        \"$match\": { \"count\": { \"$gte\": 2 } }  # Keep only ratings with at least 2 sailors\n",
        "    },\n",
        "    {\n",
        "        \"$project\": {\n",
        "            \"_id\": 0,  # Exclude the _id field\n",
        "            \"rating\": \"$_id\",\n",
        "            \"min_age\": 1\n",
        "        }\n",
        "    },\n",
        "    {\n",
        "        \"$sort\": { 'rating': 1 }  # Sort by rating in ascending order\n",
        "    }\n",
        "])\n",
        "\n",
        "# Print the query result\n",
        "for document in result:\n",
        "    print(document)\n"
      ]
    },
    {
      "cell_type": "markdown",
      "metadata": {
        "id": "Bzd0PPluKOWt"
      },
      "source": [
        "3. Using S3 collection, find the average age of sailors for each rating level that has at least two\n",
        "sailors. Expected answer is on page 115 in Lecture Note - More Exercise #2"
      ]
    },
    {
      "cell_type": "code",
      "execution_count": null,
      "metadata": {
        "colab": {
          "base_uri": "https://localhost:8080/"
        },
        "id": "8lTVvRQEKOqC",
        "outputId": "cec0c281-87ad-40bc-9a31-4a1f883fccf4"
      },
      "outputs": [
        {
          "name": "stdout",
          "output_type": "stream",
          "text": [
            "{'average_age': 44.5, 'rating': 3}\n",
            "{'average_age': 40.0, 'rating': 7}\n",
            "{'average_age': 40.5, 'rating': 8}\n",
            "{'average_age': 25.5, 'rating': 10}\n"
          ]
        }
      ],
      "source": [
        "# Query to find the average age of sailors for each rating with at least 2 sailors\n",
        "result = db.S3.aggregate([\n",
        "    {\n",
        "        \"$group\": {\n",
        "            \"_id\": \"$rating\",\n",
        "            \"average_age\": { \"$avg\": \"$age\" },  # Calculate average age per rating\n",
        "            \"count\": { \"$sum\": 1 }  # Count sailors per rating\n",
        "        }\n",
        "    },\n",
        "    {\n",
        "        \"$match\": { \"count\": { \"$gte\": 2 } }  # Keep only ratings with at least 2 sailors\n",
        "    },\n",
        "    {\n",
        "        \"$project\": {\n",
        "            \"_id\": 0,  # Exclude the _id field\n",
        "            \"rating\": \"$_id\",\n",
        "            \"average_age\": 1\n",
        "        }\n",
        "    },\n",
        "    {\n",
        "        \"$sort\": { 'rating': 1 }  # Sort by rating in ascending order\n",
        "    }\n",
        "])\n",
        "\n",
        "# Print the query result\n",
        "for document in result:\n",
        "    print(document)\n"
      ]
    },
    {
      "cell_type": "markdown",
      "metadata": {
        "id": "HkYlBjSqKag2"
      },
      "source": [
        "4. Using S3 collection, find the average age of sailors who are of voting age (i.e., at least 18 years\n",
        "old) for each rating level that has at least 2 sailors. Expected answer is on page 117 in Lecture\n",
        "Note - More Exercise #3."
      ]
    },
    {
      "cell_type": "code",
      "execution_count": null,
      "metadata": {
        "colab": {
          "base_uri": "https://localhost:8080/"
        },
        "id": "okG3XjwhKgvQ",
        "outputId": "06f05c59-8920-41e2-ec6c-f1629eb8d848"
      },
      "outputs": [
        {
          "name": "stdout",
          "output_type": "stream",
          "text": [
            "{'average_age': 44.5, 'rating': 3}\n",
            "{'average_age': 40.0, 'rating': 7}\n",
            "{'average_age': 40.5, 'rating': 8}\n"
          ]
        }
      ],
      "source": [
        "# Query to find the average age of sailors for each rating with at least 2 sailors\n",
        "result = db.S3.aggregate([\n",
        "    {\n",
        "        \"$match\": { \"age\": { \"$gte\": 18 } }  # Filter for sailors eligible to vote (age >= 18)\n",
        "    },\n",
        "    {\n",
        "        \"$group\": {\n",
        "            \"_id\": \"$rating\",\n",
        "            \"average_age\": { \"$avg\": \"$age\" },  # Calculate average age per rating\n",
        "            \"count\": { \"$sum\": 1 }  # Count sailors per rating\n",
        "        }\n",
        "    },\n",
        "    {\n",
        "        \"$match\": { \"count\": { \"$gte\": 2 } }  # Keep only ratings with at least 2 sailors\n",
        "    },\n",
        "    {\n",
        "        \"$project\": {\n",
        "            \"_id\": 0,  # Exclude the _id field\n",
        "            \"rating\": \"$_id\",\n",
        "            \"average_age\": 1\n",
        "        }\n",
        "    },\n",
        "    {\n",
        "        \"$sort\": { 'rating': 1 }  # Sort by rating in ascending order\n",
        "    }\n",
        "])\n",
        "\n",
        "# Print the query result\n",
        "for document in result:\n",
        "    print(document)\n"
      ]
    }
  ],
  "metadata": {
    "colab": {
      "provenance": []
    },
    "kernelspec": {
      "display_name": "venv",
      "language": "python",
      "name": "python3"
    },
    "language_info": {
      "codemirror_mode": {
        "name": "ipython",
        "version": 3
      },
      "file_extension": ".py",
      "mimetype": "text/x-python",
      "name": "python",
      "nbconvert_exporter": "python",
      "pygments_lexer": "ipython3",
      "version": "3.13.2"
    }
  },
  "nbformat": 4,
  "nbformat_minor": 0
}
