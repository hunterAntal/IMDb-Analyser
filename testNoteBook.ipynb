{
 "cells": [
  {
   "cell_type": "code",
   "execution_count": 1,
   "metadata": {},
   "outputs": [],
   "source": [
    "import pymongo # import the library\n",
    "import pandas as pd\n",
    "\n",
    "from pymongo import MongoClient"
   ]
  },
  {
   "cell_type": "code",
   "execution_count": 2,
   "metadata": {},
   "outputs": [],
   "source": [
    "client = MongoClient(\"mongodb://localhost:27017\")\n",
    "\n",
    "# Get a reference to a database\n",
    "db = client[\"test_database3\"]\n",
    "\n",
    "# Get a reference to a collection\n",
    "collection = db[\"test_collection\"]"
   ]
  },
  {
   "cell_type": "code",
   "execution_count": 3,
   "metadata": {},
   "outputs": [
    {
     "name": "stdout",
     "output_type": "stream",
     "text": [
      "Inserted document ID: 67d1a8b1a56e565ac39bfc0e\n"
     ]
    }
   ],
   "source": [
    "# Insert a document\n",
    "result = collection.insert_one({\"name\": \"Alice\", \"age\": 25})\n",
    "print(\"Inserted document ID:\", result.inserted_id)"
   ]
  },
  {
   "cell_type": "code",
   "execution_count": 4,
   "metadata": {},
   "outputs": [
    {
     "name": "stdout",
     "output_type": "stream",
     "text": [
      "Documents in test_collection: [{'_id': ObjectId('67d1a8b1a56e565ac39bfc0e'), 'name': 'Alice', 'age': 25}]\n"
     ]
    }
   ],
   "source": [
    "# Query documents\n",
    "docs = list(collection.find())\n",
    "print(\"Documents in test_collection:\", docs)"
   ]
  },
  {
   "cell_type": "code",
   "execution_count": 9,
   "metadata": {},
   "outputs": [
    {
     "name": "stdout",
     "output_type": "stream",
     "text": [
      "{'_id': ObjectId('67d1a8b1a56e565ac39bfc0e'), 'name': 'Alice', 'age': 25}\n"
     ]
    }
   ],
   "source": [
    "selection = db.test_collection.find({\"name\": \"Alice\"})\n",
    "# print the result\n",
    "for document in selection:\n",
    "  print(document)"
   ]
  }
 ],
 "metadata": {
  "kernelspec": {
   "display_name": "venv",
   "language": "python",
   "name": "python3"
  },
  "language_info": {
   "codemirror_mode": {
    "name": "ipython",
    "version": 3
   },
   "file_extension": ".py",
   "mimetype": "text/x-python",
   "name": "python",
   "nbconvert_exporter": "python",
   "pygments_lexer": "ipython3",
   "version": "3.13.2"
  }
 },
 "nbformat": 4,
 "nbformat_minor": 4
}
