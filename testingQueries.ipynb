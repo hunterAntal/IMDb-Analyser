{
 "cells": [
  {
   "cell_type": "code",
   "execution_count": null,
   "metadata": {},
   "outputs": [],
   "source": [
    "from pymongo import MongoClient\n",
    "\n",
    "def get_top_movies_by_genre(genre):\n",
    "    client = MongoClient(\"mongodb://localhost:27017\")\n",
    "    db = client['3675Local']\n",
    "\n",
    "    pipeline = [\n",
    "        # Filter for movies in the desired genre with at least 1000 votes\n",
    "        {\n",
    "            \"$match\": {\n",
    "                \"genres\": genre,\n",
    "                \"numVotes\": { \"$gte\": 1000 }\n",
    "            }\n",
    "        },\n",
    "        # Sort the documents by averageRating in descending order\n",
    "        { \"$sort\": { \"averageRating\": -1 } },\n",
    "        # Limit the output to the top 5 movies\n",
    "        { \"$limit\": 5 },\n",
    "        # Project only the relevant fields for output\n",
    "        {\n",
    "            \"$project\": {\n",
    "                \"_id\": 0,\n",
    "                \"title\": \"$primaryTitle\",\n",
    "                \"year\": \"$startYear\",\n",
    "                \"rating\": \"$averageRating\",\n",
    "                \"votes\": \"$numVotes\"\n",
    "            }\n",
    "        }\n",
    "    ]\n",
    "\n",
    "    results = list(db[\"movies_with_ratings\"].aggregate(pipeline))\n",
    "    return results\n"
   ]
  },
  {
   "cell_type": "code",
   "execution_count": null,
   "metadata": {},
   "outputs": [],
   "source": [
    "top_comedy_movies = get_top_movies_by_genre(\"Comedy\")\n",
    "for movie in top_comedy_movies:\n",
    "    print(movie)"
   ]
  }
 ],
 "metadata": {
  "kernelspec": {
   "display_name": "projectEnv",
   "language": "python",
   "name": "python3"
  },
  "language_info": {
   "codemirror_mode": {
    "name": "ipython",
    "version": 3
   },
   "file_extension": ".py",
   "mimetype": "text/x-python",
   "name": "python",
   "nbconvert_exporter": "python",
   "pygments_lexer": "ipython3",
   "version": "3.13.2"
  }
 },
 "nbformat": 4,
 "nbformat_minor": 2
}
